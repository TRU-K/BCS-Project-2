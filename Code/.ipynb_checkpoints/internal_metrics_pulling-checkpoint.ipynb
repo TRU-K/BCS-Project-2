{
 "cells": [
  {
   "cell_type": "code",
   "execution_count": 10,
   "id": "a4890729",
   "metadata": {},
   "outputs": [],
   "source": [
    "# Import libraries\n",
    "import os\n",
    "import pandas as pd\n",
    "from datetime import datetime, timezone\n",
    "import yfinance as yf"
   ]
  },
  {
   "cell_type": "code",
   "execution_count": 11,
   "id": "415ef13d",
   "metadata": {},
   "outputs": [],
   "source": [
    "# Create parameters to be used in data pulling\n",
    "start = pd.Timestamp('2020-07-05', tz='America/New_York').isoformat()\n",
    "end = pd.Timestamp('2022-07-05', tz='America/New_York').isoformat()\n",
    "ticker_list = ['XLE', 'XLF', 'XLU', 'XLI', 'GDX', 'XLK', 'XLV', 'XLY', 'XLP', 'XLB', 'XOP', 'IYR', 'XHB', 'ITB', 'VNQ', 'GDXJ', 'IYE', 'OIH', 'XME', 'XRT', 'SMH', 'IBB', 'KBE', 'KRE', 'XTL']\n",
    "frequency = '1d'\n",
    "period = '10y'"
   ]
  },
  {
   "cell_type": "code",
   "execution_count": 12,
   "id": "fff59f0e",
   "metadata": {},
   "outputs": [],
   "source": [
    "# Initialize dataframe\n",
    "df = pd.DataFrame()"
   ]
  },
  {
   "cell_type": "code",
   "execution_count": 13,
   "id": "9a9399e9",
   "metadata": {},
   "outputs": [],
   "source": [
    "# loop through ETF tickers and concat data into single dataframe\n",
    "for x in ticker_list:\n",
    "    yf_tick = yf.Ticker(x)\n",
    "    to_df = yf_tick.history(start_date=start, end_date=end, interval=frequency, period=period)\n",
    "    to_df.columns = to_df.columns.str.lower()\n",
    "    df_temp = pd.concat({f\"{x}\": to_df}, axis=1)\n",
    "    df = pd.concat([df_temp, df], axis=1)"
   ]
  },
  {
   "cell_type": "code",
   "execution_count": 14,
   "id": "efd5c386",
   "metadata": {},
   "outputs": [],
   "source": [
    "# Save data to csv\n",
    "df.to_csv('../Data/ETF_data.csv')"
   ]
  },
  {
   "cell_type": "code",
   "execution_count": 15,
   "id": "5f59c45c",
   "metadata": {},
   "outputs": [],
   "source": [
    "# Create new dataframe of top 8 stocks\n",
    "df_top_8 = df[['GDXJ', 'XLV', 'XLP', 'XLI', 'XLU', 'GDX', 'XLE', 'XLF']]"
   ]
  },
  {
   "cell_type": "code",
   "execution_count": 16,
   "id": "31e7b3ad",
   "metadata": {},
   "outputs": [],
   "source": [
    "# Save data to csv\n",
    "df_top_8.to_csv('../Data/ETF_top_8_data.csv')"
   ]
  },
  {
   "cell_type": "code",
   "execution_count": null,
   "id": "e540bf69",
   "metadata": {},
   "outputs": [],
   "source": []
  }
 ],
 "metadata": {
  "kernelspec": {
   "display_name": "Python 3 (ipykernel)",
   "language": "python",
   "name": "python3"
  },
  "language_info": {
   "codemirror_mode": {
    "name": "ipython",
    "version": 3
   },
   "file_extension": ".py",
   "mimetype": "text/x-python",
   "name": "python",
   "nbconvert_exporter": "python",
   "pygments_lexer": "ipython3",
   "version": "3.7.11"
  }
 },
 "nbformat": 4,
 "nbformat_minor": 5
}
