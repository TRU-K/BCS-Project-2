{
 "cells": [
  {
   "cell_type": "code",
   "execution_count": null,
   "id": "8f429303",
   "metadata": {},
   "outputs": [],
   "source": [
    "# import Libraries \n",
    "\n",
    "import numpy as np\n",
    "import pandas as pd\n",
    "import hvplot.pandas\n",
    "\n",
    "# set randomiser seed\n",
    "from numpy.random import seed\n",
    "seed(1)\n",
    "from tensorflow import random\n",
    "random.set_seed(2)\n",
    "\n",
    "from sklearn.preprocessing import MinMaxScaler\n",
    "\n",
    "\n",
    "from tensorflow.keras.models import Sequential\n",
    "from tensorflow.keras.layers import LSTM, Dense, Dropout\n"
   ]
  },
  {
   "cell_type": "code",
   "execution_count": null,
   "id": "082a77e3",
   "metadata": {},
   "outputs": [],
   "source": [
    "ticker_list = ['XLE', 'XLF', 'XLU', 'XLI', 'GDX', 'XLK', 'XLV', 'XLY', 'XLP', 'XLB', 'XOP', 'IYR', 'XHB', 'ITB', 'VNQ', 'GDXJ', 'IYE', 'OIH', 'XME', 'XRT', 'SMH', 'IBB', 'KBE', 'KRE', 'XTL']\n",
    "\n",
    "\n",
    "\n",
    "# Load CSV ticker data (this is an alternate to the API to keep data consistant)\n",
    "\n",
    "df_ticker_data = pd.read_csv(\"../Data/EFT_optimised_signals.csv\",\n",
    "    index_col =[0],\n",
    "    parse_dates = True,\n",
    "    header = [0,1]\n",
    ")\n",
    "\n",
    "\n",
    "# Replace 'buy' and 'sell' with scalar '1' and '-1' \n",
    "df_ticker_data.replace(['buy', 'sell'],[1, -1] ,inplace=True)\n",
    "\n",
    "df_ticker_data.dropna(inplace = True)\n",
    "\n",
    "# Check df\n",
    "df_ticker_data.head()"
   ]
  },
  {
   "cell_type": "code",
   "execution_count": null,
   "id": "75ad98c6",
   "metadata": {},
   "outputs": [],
   "source": [
    "# this function inputs a data frame, window size and target column name\n",
    "# this returns a rolling nested list of the features, and a list of the targets\n",
    "\n",
    "def window_data_chunk(df, window, target_col_name):\n",
    "    X = []\n",
    "    y = []\n",
    "    for i in range(len(df) - window - 1):\n",
    "        \n",
    "        df_features = df.drop(axis = 'columns', labels = target_col_name)\n",
    "        features = df_features.iloc[i:(i + window), :]\n",
    "        target = df[target_col_name].iloc[i + window]\n",
    "        X.append(features)\n",
    "        y.append(target)\n",
    "        \n",
    "    return np.array(X), np.array(y).reshape(-1, 1)"
   ]
  },
  {
   "cell_type": "code",
   "execution_count": null,
   "id": "757a0944",
   "metadata": {},
   "outputs": [],
   "source": [
    "Out = X.reshape(2,-1) \n",
    "\n",
    "# X[1][1] + X[1][2]\n",
    "\n",
    "\n",
    "test_train = X.reshape((X.shape[0], X.shape[1]*X.shape[2]))\n",
    "\n",
    "\n"
   ]
  },
  {
   "cell_type": "code",
   "execution_count": null,
   "id": "0825c954",
   "metadata": {},
   "outputs": [],
   "source": [
    "test_train.shape"
   ]
  },
  {
   "cell_type": "code",
   "execution_count": null,
   "id": "1aadddb2",
   "metadata": {},
   "outputs": [],
   "source": [
    "test_train[0][170]"
   ]
  },
  {
   "cell_type": "code",
   "execution_count": null,
   "id": "ad088160",
   "metadata": {},
   "outputs": [],
   "source": [
    "split = int(0.7 * len(X))\n",
    "X_train = X[: split]\n",
    "X_test = X[split:]\n",
    "y_train = y[: split]\n",
    "y_test = y[split:]"
   ]
  },
  {
   "cell_type": "code",
   "execution_count": null,
   "id": "2ad1b345",
   "metadata": {},
   "outputs": [],
   "source": [
    "\n",
    "# get ticker data\n",
    "df_input_data = df_ticker_data['XLE']\n",
    "\n",
    "\n",
    "X, y = window_data_chunk(df_input_data, 20, 'signal')\n",
    "\n",
    "# X = df_input_data.drop(axis = 'columns', labels = 'signal')\n",
    "# y = df_input_data['signal']\n",
    "\n",
    "\n",
    "# Test and train Split\n",
    "\n",
    "split = int(0.7 * len(X))\n",
    "X_train = X[: split]\n",
    "X_test = X[split:]\n",
    "y_train = y[: split]\n",
    "y_test = y[split:]\n",
    "\n",
    "\n",
    "X.reshape((X.shape[0], X.shape[1] * X.shape[2], 1))\n",
    "\n",
    "X_train = X_train.reshape((X_train.shape[0], X_train.shape[1]*X_train.shape[2]))\n",
    "X_test  = X_test.reshape((X_test.shape[0], X_test.shape[1] * X_test.shape[2]))\n",
    "\n",
    "\n",
    "# Create the MinMaxScaler() instance\n",
    "scaler = MinMaxScaler()\n",
    "\n",
    "# Fit the MinMaxScaler object with the training feature data X_train\n",
    "scaler.fit(X_train)\n",
    "\n",
    "# Scale the features training and testing sets\n",
    "X_train = scaler.transform(X_train)\n",
    "X_test = scaler.transform(X_test)\n",
    "\n",
    "\n",
    "# Reshape the features for the model\n",
    "X_train = X_train.reshape((X_train.shape[0], X_train.shape[1], 1))\n",
    "X_test = X_test.reshape((X_test.shape[0], X_test.shape[1], 1))\n",
    "\n",
    "\n",
    "\n",
    "# Train the model\n",
    "\n",
    "model = Sequential()\n",
    "\n",
    "number_units = 5\n",
    "dropout_fraction = 0.2\n",
    "\n",
    "# Layer 1\n",
    "model.add(LSTM(units=number_units, return_sequences=True, input_shape=(X_train.shape[1], 1)))\n",
    "model.add(Dropout(dropout_fraction))\n",
    "# Layer 2\n",
    "model.add(LSTM(units=number_units, return_sequences=True))\n",
    "model.add(Dropout(dropout_fraction))\n",
    "# Layer 3\n",
    "model.add(LSTM(units=number_units))\n",
    "model.add(Dropout(dropout_fraction))\n",
    "# Output layer\n",
    "model.add(Dense(1))\n",
    "\n",
    "model.compile(optimizer=\"adam\", loss=\"mean_squared_error\")\n",
    "\n",
    "\n"
   ]
  },
  {
   "cell_type": "code",
   "execution_count": null,
   "id": "3f943270",
   "metadata": {},
   "outputs": [],
   "source": [
    "X_train.shape"
   ]
  },
  {
   "cell_type": "code",
   "execution_count": null,
   "id": "a2046a2c",
   "metadata": {},
   "outputs": [],
   "source": [
    "model.summary()"
   ]
  },
  {
   "cell_type": "code",
   "execution_count": null,
   "id": "1cb457e7",
   "metadata": {},
   "outputs": [],
   "source": [
    "model.fit(X_train, y_train, epochs=2, shuffle=False, batch_size=1, verbose=1)"
   ]
  },
  {
   "cell_type": "markdown",
   "id": "dfd31b36",
   "metadata": {},
   "source": [
    "## Evaluation"
   ]
  },
  {
   "cell_type": "code",
   "execution_count": null,
   "id": "a955fc23",
   "metadata": {},
   "outputs": [],
   "source": [
    "model.evaluate(X_test, y_test)"
   ]
  },
  {
   "cell_type": "code",
   "execution_count": null,
   "id": "aefcbe2a",
   "metadata": {},
   "outputs": [],
   "source": [
    "predicted = model.predict(X_test)"
   ]
  },
  {
   "cell_type": "code",
   "execution_count": null,
   "id": "812b5e3c",
   "metadata": {},
   "outputs": [],
   "source": [
    "predicted"
   ]
  },
  {
   "cell_type": "code",
   "execution_count": null,
   "id": "1854cf21",
   "metadata": {},
   "outputs": [],
   "source": [
    "# Create a DataFrame of Real and Predicted values\n",
    "df_results = pd.DataFrame({\n",
    "    \"Real\": y_test.ravel(),\n",
    "    \"Predicted\": predicted.ravel()\n",
    "}, index = df_input_data.index[-len(y_test): ])\n",
    "df_results.head(50)"
   ]
  },
  {
   "cell_type": "code",
   "execution_count": null,
   "id": "72ca9011",
   "metadata": {},
   "outputs": [],
   "source": [
    "df_results.plot()"
   ]
  },
  {
   "cell_type": "code",
   "execution_count": null,
   "id": "fe635612",
   "metadata": {},
   "outputs": [],
   "source": [
    "df_test = df_ticker_data['XLE'].copy\n",
    "\n",
    "\n"
   ]
  },
  {
   "cell_type": "code",
   "execution_count": null,
   "id": "4066537b",
   "metadata": {},
   "outputs": [],
   "source": [
    "df_test.iloc[5 : (5 + 5), : ]\n",
    "\n",
    "df_test['signal'].iloc[(5 + 5), ]\n",
    "\n",
    "\n"
   ]
  },
  {
   "cell_type": "code",
   "execution_count": null,
   "id": "2df4b958",
   "metadata": {},
   "outputs": [],
   "source": [
    "df_test['signal'].iloc[(5 + 5)]"
   ]
  },
  {
   "cell_type": "code",
   "execution_count": null,
   "id": "2dc9aa4e",
   "metadata": {},
   "outputs": [],
   "source": [
    "df_test.rolling(10).agg(list)"
   ]
  },
  {
   "cell_type": "code",
   "execution_count": null,
   "id": "f988ad3d",
   "metadata": {},
   "outputs": [],
   "source": [
    "!pip install scikeras"
   ]
  },
  {
   "cell_type": "code",
   "execution_count": null,
   "id": "049e160a",
   "metadata": {},
   "outputs": [],
   "source": [
    "# https://machinelearningmastery.com/binary-classification-tutorial-with-the-keras-deep-learning-library/\n",
    "\n",
    "# Binary Classification with Sonar Dataset: Standardized Larger\n",
    "import pandas as pd\n",
    "from tensorflow.keras.models import Sequential\n",
    "from tensorflow.keras.layers import Dense\n",
    "from scikeras.wrappers import KerasClassifier # this is new libray\n",
    "from sklearn.model_selection import cross_val_score\n",
    "from sklearn.preprocessing import LabelEncoder\n",
    "from sklearn.model_selection import StratifiedKFold\n",
    "from sklearn.preprocessing import StandardScaler\n",
    "from sklearn.pipeline import Pipeline\n"
   ]
  },
  {
   "cell_type": "code",
   "execution_count": null,
   "id": "c1fee706",
   "metadata": {},
   "outputs": [],
   "source": [
    "\n",
    "df_ticker_data = pd.read_csv(\"../Data/EFT_optimised_signals.csv\",\n",
    "    index_col =[0],\n",
    "    parse_dates = True,\n",
    "    header = [0,1]\n",
    ")\n",
    "\n",
    "\n",
    "# Replace 'buy' and 'sell' with scalar '1' and '-1' \n",
    "df_input_data = df_ticker_data.replace(['buy', 'sell'],[1, -1])\n",
    "df_input_data = df_input_data['XTL']\n",
    "\n",
    "df_input_data.dropna(inplace = True)\n",
    "\n",
    "\n",
    "\n",
    "\n",
    "\n",
    "\n",
    "\n",
    "# load dataset\n",
    "# dataframe = read_csv(\"sonar.csv\", header=None)\n",
    "# dataset = dataframe.values\n",
    "\n",
    "# # split into input (X) and output (Y) variables\n",
    "# X = dataset[:,0:60].astype(float)\n",
    "# Y = dataset[:,60]\n",
    "\n",
    "X = df_input_data.drop(axis = 'columns', labels = 'signal')\n",
    "y = df_input_data['signal']\n",
    "\n",
    "\n",
    "\n",
    "# encode class values as integers\n",
    "encoder = LabelEncoder()\n",
    "encoder.fit(y)\n",
    "encoded_Y = encoder.transform(y)\n",
    "\n",
    "# larger model\n",
    "def create_larger():\n",
    "    # create model\n",
    "    model = Sequential()\n",
    "    model.add(Dense(60, input_shape=(9,), activation='relu'))\n",
    "    model.add(Dense(30, activation='relu'))\n",
    "    model.add(Dense(1, activation='sigmoid'))\n",
    "    \n",
    "    # Compile model\n",
    "    model.compile(loss='binary_crossentropy', optimizer='adam', metrics=['accuracy'])\n",
    "    return model\n",
    "\n",
    "estimators = []\n",
    "estimators.append(('standardize', StandardScaler()))\n",
    "estimators.append(('mlp', KerasClassifier(model=create_larger, epochs=100, batch_size=5, verbose=0)))\n",
    "pipeline = Pipeline(estimators)\n",
    "kfold = StratifiedKFold(n_splits=10, shuffle=True)\n",
    "results = cross_val_score(pipeline, X, encoded_Y, cv=kfold)\n",
    "print(\"Larger: %.2f%% (%.2f%%)\" % (results.mean()*100, results.std()*100))"
   ]
  },
  {
   "cell_type": "code",
   "execution_count": null,
   "id": "856c49b1",
   "metadata": {},
   "outputs": [],
   "source": [
    "predicted = KerasClassifier.predict(X)"
   ]
  },
  {
   "cell_type": "code",
   "execution_count": null,
   "id": "59ac7588",
   "metadata": {},
   "outputs": [],
   "source": [
    "X"
   ]
  },
  {
   "cell_type": "code",
   "execution_count": null,
   "id": "672c2e86",
   "metadata": {},
   "outputs": [],
   "source": []
  },
  {
   "cell_type": "code",
   "execution_count": null,
   "id": "6f5bc270",
   "metadata": {},
   "outputs": [],
   "source": []
  },
  {
   "cell_type": "code",
   "execution_count": null,
   "id": "69e6dc35",
   "metadata": {},
   "outputs": [],
   "source": []
  },
  {
   "cell_type": "code",
   "execution_count": null,
   "id": "df071aaf",
   "metadata": {},
   "outputs": [],
   "source": []
  },
  {
   "cell_type": "code",
   "execution_count": null,
   "id": "1f340cd1",
   "metadata": {},
   "outputs": [],
   "source": []
  },
  {
   "cell_type": "code",
   "execution_count": null,
   "id": "4f376379",
   "metadata": {},
   "outputs": [],
   "source": []
  },
  {
   "cell_type": "code",
   "execution_count": null,
   "id": "08222560",
   "metadata": {},
   "outputs": [],
   "source": []
  },
  {
   "cell_type": "code",
   "execution_count": 1,
   "id": "e92e243c",
   "metadata": {},
   "outputs": [],
   "source": [
    "import warnings\n",
    "warnings.filterwarnings('ignore')\n"
   ]
  },
  {
   "cell_type": "code",
   "execution_count": 2,
   "id": "45c5479b",
   "metadata": {},
   "outputs": [],
   "source": [
    "import numpy as np\n",
    "import pandas as pd\n",
    "from pathlib import Path\n",
    "from collections import Counter"
   ]
  },
  {
   "cell_type": "code",
   "execution_count": 3,
   "id": "9813db80",
   "metadata": {},
   "outputs": [],
   "source": [
    "from sklearn.metrics import balanced_accuracy_score\n",
    "from sklearn.metrics import confusion_matrix\n",
    "from sklearn.model_selection import train_test_split\n",
    "from imblearn.ensemble import BalancedRandomForestClassifier\n",
    "from imblearn.ensemble import EasyEnsembleClassifier\n",
    "from imblearn.metrics import classification_report_imbalanced"
   ]
  },
  {
   "cell_type": "code",
   "execution_count": 4,
   "id": "b642b090",
   "metadata": {},
   "outputs": [
    {
     "data": {
      "text/html": [
       "<div>\n",
       "<style scoped>\n",
       "    .dataframe tbody tr th:only-of-type {\n",
       "        vertical-align: middle;\n",
       "    }\n",
       "\n",
       "    .dataframe tbody tr th {\n",
       "        vertical-align: top;\n",
       "    }\n",
       "\n",
       "    .dataframe thead tr th {\n",
       "        text-align: left;\n",
       "    }\n",
       "\n",
       "    .dataframe thead tr:last-of-type th {\n",
       "        text-align: right;\n",
       "    }\n",
       "</style>\n",
       "<table border=\"1\" class=\"dataframe\">\n",
       "  <thead>\n",
       "    <tr>\n",
       "      <th></th>\n",
       "      <th colspan=\"7\" halign=\"left\">XTL</th>\n",
       "      <th colspan=\"3\" halign=\"left\">KRE</th>\n",
       "      <th>...</th>\n",
       "      <th>IBB</th>\n",
       "      <th colspan=\"3\" halign=\"left\">KBE</th>\n",
       "      <th colspan=\"3\" halign=\"left\">KRE</th>\n",
       "      <th colspan=\"3\" halign=\"left\">XTL</th>\n",
       "    </tr>\n",
       "    <tr>\n",
       "      <th></th>\n",
       "      <th>Open</th>\n",
       "      <th>High</th>\n",
       "      <th>Low</th>\n",
       "      <th>Close</th>\n",
       "      <th>Volume</th>\n",
       "      <th>Dividends</th>\n",
       "      <th>Stock Splits</th>\n",
       "      <th>Open</th>\n",
       "      <th>High</th>\n",
       "      <th>Low</th>\n",
       "      <th>...</th>\n",
       "      <th>signal</th>\n",
       "      <th>EMA_short</th>\n",
       "      <th>EMA_long</th>\n",
       "      <th>signal</th>\n",
       "      <th>EMA_short</th>\n",
       "      <th>EMA_long</th>\n",
       "      <th>signal</th>\n",
       "      <th>EMA_short</th>\n",
       "      <th>EMA_long</th>\n",
       "      <th>signal</th>\n",
       "    </tr>\n",
       "    <tr>\n",
       "      <th>Date</th>\n",
       "      <th></th>\n",
       "      <th></th>\n",
       "      <th></th>\n",
       "      <th></th>\n",
       "      <th></th>\n",
       "      <th></th>\n",
       "      <th></th>\n",
       "      <th></th>\n",
       "      <th></th>\n",
       "      <th></th>\n",
       "      <th></th>\n",
       "      <th></th>\n",
       "      <th></th>\n",
       "      <th></th>\n",
       "      <th></th>\n",
       "      <th></th>\n",
       "      <th></th>\n",
       "      <th></th>\n",
       "      <th></th>\n",
       "      <th></th>\n",
       "      <th></th>\n",
       "    </tr>\n",
       "  </thead>\n",
       "  <tbody>\n",
       "    <tr>\n",
       "      <th>2017-07-10</th>\n",
       "      <td>65.807837</td>\n",
       "      <td>66.284233</td>\n",
       "      <td>65.742449</td>\n",
       "      <td>66.284233</td>\n",
       "      <td>2100</td>\n",
       "      <td>0.0</td>\n",
       "      <td>0</td>\n",
       "      <td>49.230791</td>\n",
       "      <td>49.443759</td>\n",
       "      <td>48.991203</td>\n",
       "      <td>...</td>\n",
       "      <td>buy</td>\n",
       "      <td>39.107540</td>\n",
       "      <td>39.107540</td>\n",
       "      <td>sell</td>\n",
       "      <td>49.150928</td>\n",
       "      <td>49.150928</td>\n",
       "      <td>sell</td>\n",
       "      <td>66.284233</td>\n",
       "      <td>66.284233</td>\n",
       "      <td>sell</td>\n",
       "    </tr>\n",
       "    <tr>\n",
       "      <th>2017-07-11</th>\n",
       "      <td>65.751801</td>\n",
       "      <td>65.938620</td>\n",
       "      <td>65.723779</td>\n",
       "      <td>65.779823</td>\n",
       "      <td>9200</td>\n",
       "      <td>0.0</td>\n",
       "      <td>0</td>\n",
       "      <td>49.168673</td>\n",
       "      <td>49.230788</td>\n",
       "      <td>48.689498</td>\n",
       "      <td>...</td>\n",
       "      <td>buy</td>\n",
       "      <td>39.063135</td>\n",
       "      <td>39.101042</td>\n",
       "      <td>sell</td>\n",
       "      <td>49.121349</td>\n",
       "      <td>49.146600</td>\n",
       "      <td>sell</td>\n",
       "      <td>66.116096</td>\n",
       "      <td>66.259628</td>\n",
       "      <td>buy</td>\n",
       "    </tr>\n",
       "    <tr>\n",
       "      <th>2017-07-12</th>\n",
       "      <td>66.321578</td>\n",
       "      <td>66.321578</td>\n",
       "      <td>65.938590</td>\n",
       "      <td>66.088051</td>\n",
       "      <td>14400</td>\n",
       "      <td>0.0</td>\n",
       "      <td>0</td>\n",
       "      <td>48.813726</td>\n",
       "      <td>49.266282</td>\n",
       "      <td>48.751611</td>\n",
       "      <td>...</td>\n",
       "      <td>buy</td>\n",
       "      <td>39.021686</td>\n",
       "      <td>39.093127</td>\n",
       "      <td>sell</td>\n",
       "      <td>49.066134</td>\n",
       "      <td>49.137288</td>\n",
       "      <td>sell</td>\n",
       "      <td>66.106748</td>\n",
       "      <td>66.251258</td>\n",
       "      <td>buy</td>\n",
       "    </tr>\n",
       "    <tr>\n",
       "      <th>2017-07-13</th>\n",
       "      <td>65.863877</td>\n",
       "      <td>66.237521</td>\n",
       "      <td>65.845191</td>\n",
       "      <td>66.069382</td>\n",
       "      <td>14200</td>\n",
       "      <td>0.0</td>\n",
       "      <td>0</td>\n",
       "      <td>49.106570</td>\n",
       "      <td>49.275168</td>\n",
       "      <td>48.831487</td>\n",
       "      <td>...</td>\n",
       "      <td>buy</td>\n",
       "      <td>39.044382</td>\n",
       "      <td>39.092963</td>\n",
       "      <td>sell</td>\n",
       "      <td>49.088486</td>\n",
       "      <td>49.137088</td>\n",
       "      <td>sell</td>\n",
       "      <td>66.094293</td>\n",
       "      <td>66.242386</td>\n",
       "      <td>buy</td>\n",
       "    </tr>\n",
       "    <tr>\n",
       "      <th>2017-07-14</th>\n",
       "      <td>66.013344</td>\n",
       "      <td>66.312258</td>\n",
       "      <td>66.013344</td>\n",
       "      <td>66.293579</td>\n",
       "      <td>2300</td>\n",
       "      <td>0.0</td>\n",
       "      <td>0</td>\n",
       "      <td>48.432167</td>\n",
       "      <td>49.115433</td>\n",
       "      <td>48.210327</td>\n",
       "      <td>...</td>\n",
       "      <td>buy</td>\n",
       "      <td>38.991420</td>\n",
       "      <td>39.082843</td>\n",
       "      <td>sell</td>\n",
       "      <td>48.999859</td>\n",
       "      <td>49.121747</td>\n",
       "      <td>sell</td>\n",
       "      <td>66.160721</td>\n",
       "      <td>66.244883</td>\n",
       "      <td>buy</td>\n",
       "    </tr>\n",
       "  </tbody>\n",
       "</table>\n",
       "<p>5 rows × 250 columns</p>\n",
       "</div>"
      ],
      "text/plain": [
       "                  XTL                                                    \\\n",
       "                 Open       High        Low      Close Volume Dividends   \n",
       "Date                                                                      \n",
       "2017-07-10  65.807837  66.284233  65.742449  66.284233   2100       0.0   \n",
       "2017-07-11  65.751801  65.938620  65.723779  65.779823   9200       0.0   \n",
       "2017-07-12  66.321578  66.321578  65.938590  66.088051  14400       0.0   \n",
       "2017-07-13  65.863877  66.237521  65.845191  66.069382  14200       0.0   \n",
       "2017-07-14  66.013344  66.312258  66.013344  66.293579   2300       0.0   \n",
       "\n",
       "                               KRE                        ...    IBB  \\\n",
       "           Stock Splits       Open       High        Low  ... signal   \n",
       "Date                                                      ...          \n",
       "2017-07-10            0  49.230791  49.443759  48.991203  ...    buy   \n",
       "2017-07-11            0  49.168673  49.230788  48.689498  ...    buy   \n",
       "2017-07-12            0  48.813726  49.266282  48.751611  ...    buy   \n",
       "2017-07-13            0  49.106570  49.275168  48.831487  ...    buy   \n",
       "2017-07-14            0  48.432167  49.115433  48.210327  ...    buy   \n",
       "\n",
       "                  KBE                          KRE                    \\\n",
       "            EMA_short   EMA_long signal  EMA_short   EMA_long signal   \n",
       "Date                                                                   \n",
       "2017-07-10  39.107540  39.107540   sell  49.150928  49.150928   sell   \n",
       "2017-07-11  39.063135  39.101042   sell  49.121349  49.146600   sell   \n",
       "2017-07-12  39.021686  39.093127   sell  49.066134  49.137288   sell   \n",
       "2017-07-13  39.044382  39.092963   sell  49.088486  49.137088   sell   \n",
       "2017-07-14  38.991420  39.082843   sell  48.999859  49.121747   sell   \n",
       "\n",
       "                  XTL                    \n",
       "            EMA_short   EMA_long signal  \n",
       "Date                                     \n",
       "2017-07-10  66.284233  66.284233   sell  \n",
       "2017-07-11  66.116096  66.259628    buy  \n",
       "2017-07-12  66.106748  66.251258    buy  \n",
       "2017-07-13  66.094293  66.242386    buy  \n",
       "2017-07-14  66.160721  66.244883    buy  \n",
       "\n",
       "[5 rows x 250 columns]"
      ]
     },
     "execution_count": 4,
     "metadata": {},
     "output_type": "execute_result"
    }
   ],
   "source": [
    "# Load the data\n",
    "file_path = Path('../Data/EFT_optimised_signals.csv')\n",
    "df = pd.read_csv(file_path,\n",
    "                index_col =[0],\n",
    "                parse_dates = True,\n",
    "                header = [0,1]\n",
    ")\n",
    "\n",
    "# Preview the data\n",
    "df.head()"
   ]
  },
  {
   "cell_type": "code",
   "execution_count": 13,
   "id": "09e53f72",
   "metadata": {},
   "outputs": [],
   "source": [
    "# Create our features\n",
    "df1 = df['XTL']\n",
    "df1.dropna(inplace = True)\n",
    "\n",
    "X = df1.drop(\"signal\", axis = 'columns').copy()\n",
    "# encode non-calculateable fields to binary\n",
    "# X = pd.get_dummies(X, columns = ['next_pymnt_d','issue_d','home_ownership','verification_status', 'pymnt_plan', 'hardship_flag', 'debt_settlement_flag', 'application_type', 'initial_list_status'])\n",
    "\n",
    "\n",
    "# Create our target\n",
    "y = df1[\"signal\"].to_frame()\n"
   ]
  },
  {
   "cell_type": "code",
   "execution_count": 14,
   "id": "5ca970bc",
   "metadata": {},
   "outputs": [
    {
     "data": {
      "text/plain": [
       "buy     739\n",
       "sell    514\n",
       "Name: signal, dtype: int64"
      ]
     },
     "execution_count": 14,
     "metadata": {},
     "output_type": "execute_result"
    }
   ],
   "source": [
    "# Check the balance of our target values\n",
    "# YOUR CODE HERE\n",
    "y['signal'].value_counts()"
   ]
  },
  {
   "cell_type": "code",
   "execution_count": 15,
   "id": "1c4eadeb",
   "metadata": {},
   "outputs": [],
   "source": [
    "# Split the X and y into X_train, X_test, y_train, y_test\n",
    "X_train, X_test, y_train, y_test = train_test_split(X, y.values, random_state=10)"
   ]
  },
  {
   "cell_type": "code",
   "execution_count": 16,
   "id": "48410018",
   "metadata": {},
   "outputs": [],
   "source": [
    "# Create the StandardScaler instance\n",
    "# YOUR CODE HERE\n",
    "from sklearn.preprocessing import StandardScaler\n",
    "# YOUR CODE HERE\n",
    "scaler = StandardScaler()"
   ]
  },
  {
   "cell_type": "code",
   "execution_count": 17,
   "id": "3fb0d308",
   "metadata": {},
   "outputs": [],
   "source": [
    "# Fit the Standard Scaler with the training data\n",
    "# When fitting scaling functions, only train on the training dataset\n",
    "# YOUR CODE HERE\n",
    "\n",
    "X_scaler = scaler.fit(X_train)"
   ]
  },
  {
   "cell_type": "code",
   "execution_count": 18,
   "id": "a4933861",
   "metadata": {},
   "outputs": [],
   "source": [
    "# Scale the training and testing data\n",
    "# YOUR CODE HERE\n",
    "\n",
    "X_train = X_scaler.transform(X_train)\n",
    "X_test = X_scaler.transform(X_test)"
   ]
  },
  {
   "cell_type": "code",
   "execution_count": 19,
   "id": "04039d10",
   "metadata": {},
   "outputs": [
    {
     "data": {
      "text/plain": [
       "BalancedRandomForestClassifier(random_state=1)"
      ]
     },
     "execution_count": 19,
     "metadata": {},
     "output_type": "execute_result"
    }
   ],
   "source": [
    "# Resample the training data with the BalancedRandomForestClassifier\n",
    "# YOUR CODE HERE\n",
    "model = BalancedRandomForestClassifier(random_state=1)\n",
    "model.fit(X_train, y_train)"
   ]
  },
  {
   "cell_type": "code",
   "execution_count": 20,
   "id": "2f1cfdc2",
   "metadata": {},
   "outputs": [
    {
     "data": {
      "text/plain": [
       "0.8662321539416511"
      ]
     },
     "execution_count": 20,
     "metadata": {},
     "output_type": "execute_result"
    }
   ],
   "source": [
    "# Calculated the balanced accuracy score\n",
    "# YOUR CODE HERE\n",
    "y_pred = model.predict(X_test)\n",
    "balanced_accuracy_score(y_test, y_pred)"
   ]
  },
  {
   "cell_type": "code",
   "execution_count": 21,
   "id": "22d95b10",
   "metadata": {},
   "outputs": [
    {
     "data": {
      "text/plain": [
       "array([[151,  28],\n",
       "       [ 15, 120]], dtype=int64)"
      ]
     },
     "execution_count": 21,
     "metadata": {},
     "output_type": "execute_result"
    }
   ],
   "source": [
    "# Display the confusion matrix\n",
    "# YOUR CODE HERE\n",
    "\n",
    "confusion_matrix(y_test, y_pred)"
   ]
  },
  {
   "cell_type": "code",
   "execution_count": 22,
   "id": "0bd9ed90",
   "metadata": {},
   "outputs": [
    {
     "name": "stdout",
     "output_type": "stream",
     "text": [
      "                   pre       rec       spe        f1       geo       iba       sup\n",
      "\n",
      "        buy       0.91      0.84      0.89      0.88      0.87      0.75       179\n",
      "       sell       0.81      0.89      0.84      0.85      0.87      0.75       135\n",
      "\n",
      "avg / total       0.87      0.86      0.87      0.86      0.87      0.75       314\n",
      "\n"
     ]
    }
   ],
   "source": [
    "# Print the imbalanced classification report\n",
    "# YOUR CODE HERE\n",
    "print(classification_report_imbalanced(y_test, y_pred))"
   ]
  },
  {
   "cell_type": "code",
   "execution_count": 23,
   "id": "95f503db",
   "metadata": {},
   "outputs": [
    {
     "data": {
      "text/plain": [
       "EMA_long        0.315303\n",
       "Close           0.145609\n",
       "EMA_short       0.122882\n",
       "Low             0.118328\n",
       "High            0.107512\n",
       "Open            0.100563\n",
       "Volume          0.087959\n",
       "Dividends       0.001844\n",
       "Stock Splits    0.000000\n",
       "dtype: float64"
      ]
     },
     "execution_count": 23,
     "metadata": {},
     "output_type": "execute_result"
    }
   ],
   "source": [
    "# List the features sorted in descending order by feature importance\n",
    "# YOUR CODE HERE\n",
    "importances = pd.Series(model.feature_importances_, index=X.columns).sort_values(ascending=False)\n",
    "importances.nlargest(20)"
   ]
  },
  {
   "cell_type": "code",
   "execution_count": null,
   "id": "7d45a352",
   "metadata": {},
   "outputs": [],
   "source": []
  },
  {
   "cell_type": "code",
   "execution_count": null,
   "id": "a57ee188",
   "metadata": {},
   "outputs": [],
   "source": []
  },
  {
   "cell_type": "markdown",
   "id": "b20d4f7b",
   "metadata": {},
   "source": [
    "### Easy Ensemble Classifier"
   ]
  },
  {
   "cell_type": "code",
   "execution_count": 24,
   "id": "4825fd8c",
   "metadata": {},
   "outputs": [
    {
     "data": {
      "text/plain": [
       "EasyEnsembleClassifier(random_state=1)"
      ]
     },
     "execution_count": 24,
     "metadata": {},
     "output_type": "execute_result"
    }
   ],
   "source": [
    "# Train the Classifier\n",
    "# YOUR CODE HERE\n",
    "model = EasyEnsembleClassifier(random_state=1)\n",
    "model.fit(X_train, y_train)\n"
   ]
  },
  {
   "cell_type": "code",
   "execution_count": 25,
   "id": "0a7c1e42",
   "metadata": {},
   "outputs": [
    {
     "data": {
      "text/plain": [
       "0.8774053382991931"
      ]
     },
     "execution_count": 25,
     "metadata": {},
     "output_type": "execute_result"
    }
   ],
   "source": [
    "# Calculated the balanced accuracy score\n",
    "# YOUR CODE HERE\n",
    "\n",
    "y_pred = model.predict(X_test)\n",
    "balanced_accuracy_score(y_test, y_pred)"
   ]
  },
  {
   "cell_type": "code",
   "execution_count": 26,
   "id": "3a35edb5",
   "metadata": {},
   "outputs": [
    {
     "data": {
      "text/plain": [
       "array([[155,  24],\n",
       "       [ 15, 120]], dtype=int64)"
      ]
     },
     "execution_count": 26,
     "metadata": {},
     "output_type": "execute_result"
    }
   ],
   "source": [
    "# Display the confusion matrix\n",
    "# YOUR CODE HERE\n",
    "\n",
    "confusion_matrix(y_test, y_pred)"
   ]
  },
  {
   "cell_type": "code",
   "execution_count": 27,
   "id": "ea8d22ef",
   "metadata": {},
   "outputs": [
    {
     "name": "stdout",
     "output_type": "stream",
     "text": [
      "                   pre       rec       spe        f1       geo       iba       sup\n",
      "\n",
      "        buy       0.91      0.87      0.89      0.89      0.88      0.77       179\n",
      "       sell       0.83      0.89      0.87      0.86      0.88      0.77       135\n",
      "\n",
      "avg / total       0.88      0.88      0.88      0.88      0.88      0.77       314\n",
      "\n"
     ]
    }
   ],
   "source": [
    "# Print the imbalanced classification report\n",
    "# YOUR CODE HERE\n",
    "print(classification_report_imbalanced(y_test, y_pred))"
   ]
  },
  {
   "cell_type": "code",
   "execution_count": 29,
   "id": "dc2deb05",
   "metadata": {},
   "outputs": [],
   "source": [
    "full_pred = model.predict(X)"
   ]
  },
  {
   "cell_type": "code",
   "execution_count": null,
   "id": "ecce7860",
   "metadata": {},
   "outputs": [],
   "source": []
  },
  {
   "cell_type": "code",
   "execution_count": null,
   "id": "fb9a943c",
   "metadata": {},
   "outputs": [],
   "source": [
    "## returns test"
   ]
  },
  {
   "cell_type": "code",
   "execution_count": 30,
   "id": "b78d1953",
   "metadata": {},
   "outputs": [],
   "source": [
    "df1['signal'] = full_pred"
   ]
  },
  {
   "cell_type": "code",
   "execution_count": 35,
   "id": "8b27259f",
   "metadata": {},
   "outputs": [
    {
     "name": "stdout",
     "output_type": "stream",
     "text": [
      "16.114\n",
      "           Portfolio_Value\n",
      "2017-07-10      990.719471\n",
      "2017-07-11      983.728351\n",
      "2017-07-12      988.000385\n",
      "2017-07-13      987.741631\n",
      "2017-07-14      990.849006\n",
      "...                    ...\n",
      "2022-06-23         1166.96\n",
      "2022-06-24     1187.056958\n",
      "2022-06-27     1189.690392\n",
      "2022-06-28     1162.801958\n",
      "2022-06-29     1161.138825\n",
      "\n",
      "[1253 rows x 1 columns]\n"
     ]
    }
   ],
   "source": [
    "# Test Model pridictions against the full duration for comparison\n",
    "\n",
    "df_temp = pd.DataFrame(columns=['Portfolio_Value'])\n",
    "\n",
    "# complete trading backtest\n",
    "fee = 0.01 #(1% fee)\n",
    "\n",
    "# set starting conditions\n",
    "start_fund = 1000\n",
    "fund = start_fund\n",
    "stock = 0\n",
    "status = 'short'\n",
    "\n",
    "# cycle through all rows\n",
    "for index, row in df1.iterrows():\n",
    "\n",
    "    # buy conditions and action\n",
    "    if status == 'short' and row['signal'] == 'buy':\n",
    "\n",
    "        stock = np.floor(fund/(row['Close']*(1+fee)))\n",
    "\n",
    "        fund = round(fund - (row['Close']*stock), 2)\n",
    "\n",
    "        status = 'long'\n",
    "\n",
    "    #sell conditions and actions\n",
    "    if status == 'long' and row['signal'] == 'sell':\n",
    "\n",
    "        fund = round(fund + ((row['Close'] * stock)*(1-fee)), 2)\n",
    "\n",
    "        stock = 0\n",
    "\n",
    "        status = 'short'\n",
    "\n",
    "        \n",
    "        \n",
    "    #record the total portfolio value        \n",
    "    df_temp.loc[index, ('Portfolio_Value')] = fund + ((row['Close'] * stock)*(1-fee))\n",
    "    \n",
    "# calculate profit or loss as % return (positive or negative)\n",
    "# remaining funds + sale of any stock held less starting value, divide by staring value to get % change\n",
    "final_value = fund + ((row['Close'] * stock)*(1-fee))\n",
    "pct_return = round((final_value - start_fund)/start_fund,5) * 100\n",
    "\n",
    "print(pct_return)\n",
    "print(df_temp)"
   ]
  },
  {
   "cell_type": "code",
   "execution_count": null,
   "id": "826caefe",
   "metadata": {},
   "outputs": [],
   "source": []
  },
  {
   "cell_type": "code",
   "execution_count": null,
   "id": "da818a97",
   "metadata": {},
   "outputs": [],
   "source": []
  },
  {
   "cell_type": "code",
   "execution_count": null,
   "id": "6bdea570",
   "metadata": {},
   "outputs": [],
   "source": []
  },
  {
   "cell_type": "code",
   "execution_count": null,
   "id": "108d0be0",
   "metadata": {},
   "outputs": [],
   "source": []
  },
  {
   "cell_type": "code",
   "execution_count": null,
   "id": "91203cc6",
   "metadata": {},
   "outputs": [],
   "source": []
  },
  {
   "cell_type": "code",
   "execution_count": null,
   "id": "e2e62eb3",
   "metadata": {},
   "outputs": [],
   "source": []
  },
  {
   "cell_type": "code",
   "execution_count": null,
   "id": "1140c02c",
   "metadata": {},
   "outputs": [],
   "source": []
  },
  {
   "cell_type": "code",
   "execution_count": null,
   "id": "59b0d63c",
   "metadata": {},
   "outputs": [],
   "source": []
  }
 ],
 "metadata": {
  "kernelspec": {
   "display_name": "Python [conda env:pyvizenv] *",
   "language": "python",
   "name": "conda-env-pyvizenv-py"
  },
  "language_info": {
   "codemirror_mode": {
    "name": "ipython",
    "version": 3
   },
   "file_extension": ".py",
   "mimetype": "text/x-python",
   "name": "python",
   "nbconvert_exporter": "python",
   "pygments_lexer": "ipython3",
   "version": "3.7.11"
  }
 },
 "nbformat": 4,
 "nbformat_minor": 5
}
