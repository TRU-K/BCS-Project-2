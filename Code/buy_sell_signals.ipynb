{
 "cells": [
  {
   "cell_type": "code",
   "execution_count": 3,
   "id": "dafb9d4e",
   "metadata": {
    "tags": []
   },
   "outputs": [
    {
     "name": "stdout",
     "output_type": "stream",
     "text": [
      "Collecting TA-Lib\n",
      "  Downloading TA-Lib-0.4.24.tar.gz (269 kB)\n",
      "Requirement already satisfied: numpy in c:\\users\\mclew\\anaconda3\\envs\\pyvizenv\\lib\\site-packages (from TA-Lib) (1.21.6)\n",
      "Building wheels for collected packages: TA-Lib\n",
      "  Building wheel for TA-Lib (setup.py): started\n",
      "  Building wheel for TA-Lib (setup.py): finished with status 'error'\n",
      "  Running setup.py clean for TA-Lib\n",
      "Failed to build TA-Lib\n",
      "Installing collected packages: TA-Lib\n",
      "    Running setup.py install for TA-Lib: started\n",
      "    Running setup.py install for TA-Lib: finished with status 'error'\n",
      "Note: you may need to restart the kernel to use updated packages.\n"
     ]
    },
    {
     "name": "stderr",
     "output_type": "stream",
     "text": [
      "  ERROR: Command errored out with exit status 1:\n",
      "   command: 'C:\\Users\\mclew\\anaconda3\\envs\\pyvizenv\\python.exe' -u -c 'import io, os, sys, setuptools, tokenize; sys.argv[0] = '\"'\"'C:\\\\Users\\\\mclew\\\\AppData\\\\Local\\\\Temp\\\\pip-install-gfcrac3a\\\\ta-lib_bacc6eb7ba4240b19ad8a594301ee3da\\\\setup.py'\"'\"'; __file__='\"'\"'C:\\\\Users\\\\mclew\\\\AppData\\\\Local\\\\Temp\\\\pip-install-gfcrac3a\\\\ta-lib_bacc6eb7ba4240b19ad8a594301ee3da\\\\setup.py'\"'\"';f = getattr(tokenize, '\"'\"'open'\"'\"', open)(__file__) if os.path.exists(__file__) else io.StringIO('\"'\"'from setuptools import setup; setup()'\"'\"');code = f.read().replace('\"'\"'\\r\\n'\"'\"', '\"'\"'\\n'\"'\"');f.close();exec(compile(code, __file__, '\"'\"'exec'\"'\"'))' bdist_wheel -d 'C:\\Users\\mclew\\AppData\\Local\\Temp\\pip-wheel-5y77e1a7'\n",
      "       cwd: C:\\Users\\mclew\\AppData\\Local\\Temp\\pip-install-gfcrac3a\\ta-lib_bacc6eb7ba4240b19ad8a594301ee3da\\\n",
      "  Complete output (22 lines):\n",
      "  C:\\Users\\mclew\\AppData\\Local\\Temp\\pip-install-gfcrac3a\\ta-lib_bacc6eb7ba4240b19ad8a594301ee3da\\setup.py:77: UserWarning: Cannot find ta-lib library, installation may fail.\n",
      "    warnings.warn('Cannot find ta-lib library, installation may fail.')\n",
      "  running bdist_wheel\n",
      "  running build\n",
      "  running build_py\n",
      "  creating build\n",
      "  creating build\\lib.win-amd64-3.7\n",
      "  creating build\\lib.win-amd64-3.7\\talib\n",
      "  copying talib\\abstract.py -> build\\lib.win-amd64-3.7\\talib\n",
      "  copying talib\\deprecated.py -> build\\lib.win-amd64-3.7\\talib\n",
      "  copying talib\\stream.py -> build\\lib.win-amd64-3.7\\talib\n",
      "  copying talib\\test_abstract.py -> build\\lib.win-amd64-3.7\\talib\n",
      "  copying talib\\test_data.py -> build\\lib.win-amd64-3.7\\talib\n",
      "  copying talib\\test_func.py -> build\\lib.win-amd64-3.7\\talib\n",
      "  copying talib\\test_pandas.py -> build\\lib.win-amd64-3.7\\talib\n",
      "  copying talib\\test_polars.py -> build\\lib.win-amd64-3.7\\talib\n",
      "  copying talib\\test_stream.py -> build\\lib.win-amd64-3.7\\talib\n",
      "  copying talib\\__init__.py -> build\\lib.win-amd64-3.7\\talib\n",
      "  running build_ext\n",
      "  skipping 'talib\\_ta_lib.c' Cython extension (up-to-date)\n",
      "  building 'talib._ta_lib' extension\n",
      "  error: Microsoft Visual C++ 14.0 or greater is required. Get it with \"Microsoft C++ Build Tools\": https://visualstudio.microsoft.com/visual-cpp-build-tools/\n",
      "  ----------------------------------------\n",
      "  ERROR: Failed building wheel for TA-Lib\n",
      "    ERROR: Command errored out with exit status 1:\n",
      "     command: 'C:\\Users\\mclew\\anaconda3\\envs\\pyvizenv\\python.exe' -u -c 'import io, os, sys, setuptools, tokenize; sys.argv[0] = '\"'\"'C:\\\\Users\\\\mclew\\\\AppData\\\\Local\\\\Temp\\\\pip-install-gfcrac3a\\\\ta-lib_bacc6eb7ba4240b19ad8a594301ee3da\\\\setup.py'\"'\"'; __file__='\"'\"'C:\\\\Users\\\\mclew\\\\AppData\\\\Local\\\\Temp\\\\pip-install-gfcrac3a\\\\ta-lib_bacc6eb7ba4240b19ad8a594301ee3da\\\\setup.py'\"'\"';f = getattr(tokenize, '\"'\"'open'\"'\"', open)(__file__) if os.path.exists(__file__) else io.StringIO('\"'\"'from setuptools import setup; setup()'\"'\"');code = f.read().replace('\"'\"'\\r\\n'\"'\"', '\"'\"'\\n'\"'\"');f.close();exec(compile(code, __file__, '\"'\"'exec'\"'\"'))' install --record 'C:\\Users\\mclew\\AppData\\Local\\Temp\\pip-record-67i5ptsv\\install-record.txt' --single-version-externally-managed --compile --install-headers 'C:\\Users\\mclew\\anaconda3\\envs\\pyvizenv\\Include\\TA-Lib'\n",
      "         cwd: C:\\Users\\mclew\\AppData\\Local\\Temp\\pip-install-gfcrac3a\\ta-lib_bacc6eb7ba4240b19ad8a594301ee3da\\\n",
      "    Complete output (22 lines):\n",
      "    C:\\Users\\mclew\\AppData\\Local\\Temp\\pip-install-gfcrac3a\\ta-lib_bacc6eb7ba4240b19ad8a594301ee3da\\setup.py:77: UserWarning: Cannot find ta-lib library, installation may fail.\n",
      "      warnings.warn('Cannot find ta-lib library, installation may fail.')\n",
      "    running install\n",
      "    running build\n",
      "    running build_py\n",
      "    creating build\n",
      "    creating build\\lib.win-amd64-3.7\n",
      "    creating build\\lib.win-amd64-3.7\\talib\n",
      "    copying talib\\abstract.py -> build\\lib.win-amd64-3.7\\talib\n",
      "    copying talib\\deprecated.py -> build\\lib.win-amd64-3.7\\talib\n",
      "    copying talib\\stream.py -> build\\lib.win-amd64-3.7\\talib\n",
      "    copying talib\\test_abstract.py -> build\\lib.win-amd64-3.7\\talib\n",
      "    copying talib\\test_data.py -> build\\lib.win-amd64-3.7\\talib\n",
      "    copying talib\\test_func.py -> build\\lib.win-amd64-3.7\\talib\n",
      "    copying talib\\test_pandas.py -> build\\lib.win-amd64-3.7\\talib\n",
      "    copying talib\\test_polars.py -> build\\lib.win-amd64-3.7\\talib\n",
      "    copying talib\\test_stream.py -> build\\lib.win-amd64-3.7\\talib\n",
      "    copying talib\\__init__.py -> build\\lib.win-amd64-3.7\\talib\n",
      "    running build_ext\n",
      "    skipping 'talib\\_ta_lib.c' Cython extension (up-to-date)\n",
      "    building 'talib._ta_lib' extension\n",
      "    error: Microsoft Visual C++ 14.0 or greater is required. Get it with \"Microsoft C++ Build Tools\": https://visualstudio.microsoft.com/visual-cpp-build-tools/\n",
      "    ----------------------------------------\n",
      "ERROR: Command errored out with exit status 1: 'C:\\Users\\mclew\\anaconda3\\envs\\pyvizenv\\python.exe' -u -c 'import io, os, sys, setuptools, tokenize; sys.argv[0] = '\"'\"'C:\\\\Users\\\\mclew\\\\AppData\\\\Local\\\\Temp\\\\pip-install-gfcrac3a\\\\ta-lib_bacc6eb7ba4240b19ad8a594301ee3da\\\\setup.py'\"'\"'; __file__='\"'\"'C:\\\\Users\\\\mclew\\\\AppData\\\\Local\\\\Temp\\\\pip-install-gfcrac3a\\\\ta-lib_bacc6eb7ba4240b19ad8a594301ee3da\\\\setup.py'\"'\"';f = getattr(tokenize, '\"'\"'open'\"'\"', open)(__file__) if os.path.exists(__file__) else io.StringIO('\"'\"'from setuptools import setup; setup()'\"'\"');code = f.read().replace('\"'\"'\\r\\n'\"'\"', '\"'\"'\\n'\"'\"');f.close();exec(compile(code, __file__, '\"'\"'exec'\"'\"'))' install --record 'C:\\Users\\mclew\\AppData\\Local\\Temp\\pip-record-67i5ptsv\\install-record.txt' --single-version-externally-managed --compile --install-headers 'C:\\Users\\mclew\\anaconda3\\envs\\pyvizenv\\Include\\TA-Lib' Check the logs for full command output.\n"
     ]
    }
   ],
   "source": [
    "pip install TA-Lib"
   ]
  },
  {
   "cell_type": "code",
   "execution_count": 2,
   "id": "921127c3",
   "metadata": {},
   "outputs": [
    {
     "ename": "ModuleNotFoundError",
     "evalue": "No module named 'talib'",
     "output_type": "error",
     "traceback": [
      "\u001b[1;31m---------------------------------------------------------------------------\u001b[0m",
      "\u001b[1;31mModuleNotFoundError\u001b[0m                       Traceback (most recent call last)",
      "\u001b[1;32m~\\AppData\\Local\\Temp/ipykernel_22328/2900293486.py\u001b[0m in \u001b[0;36m<module>\u001b[1;34m\u001b[0m\n\u001b[0;32m      1\u001b[0m \u001b[1;31m# Import libraries\u001b[0m\u001b[1;33m\u001b[0m\u001b[1;33m\u001b[0m\u001b[1;33m\u001b[0m\u001b[0m\n\u001b[1;32m----> 2\u001b[1;33m \u001b[1;32mimport\u001b[0m \u001b[0mtalib\u001b[0m \u001b[1;32mas\u001b[0m \u001b[0mta\u001b[0m\u001b[1;33m\u001b[0m\u001b[1;33m\u001b[0m\u001b[0m\n\u001b[0m\u001b[0;32m      3\u001b[0m \u001b[1;32mfrom\u001b[0m \u001b[0mtalib\u001b[0m \u001b[1;32mimport\u001b[0m \u001b[0mabstract\u001b[0m\u001b[1;33m\u001b[0m\u001b[1;33m\u001b[0m\u001b[0m\n\u001b[0;32m      4\u001b[0m \u001b[1;32mfrom\u001b[0m \u001b[0mtalib\u001b[0m \u001b[1;32mimport\u001b[0m \u001b[0mMA_Type\u001b[0m\u001b[1;33m\u001b[0m\u001b[1;33m\u001b[0m\u001b[0m\n\u001b[0;32m      5\u001b[0m \u001b[1;32mimport\u001b[0m \u001b[0mpandas\u001b[0m \u001b[1;32mas\u001b[0m \u001b[0mpd\u001b[0m\u001b[1;33m\u001b[0m\u001b[1;33m\u001b[0m\u001b[0m\n",
      "\u001b[1;31mModuleNotFoundError\u001b[0m: No module named 'talib'"
     ]
    }
   ],
   "source": [
    "# Import libraries\n",
    "import talib as ta\n",
    "from talib import abstract\n",
    "from talib import MA_Type\n",
    "import pandas as pd\n",
    "import hvplot.pandas"
   ]
  },
  {
   "cell_type": "code",
   "execution_count": null,
   "id": "7055aa86",
   "metadata": {},
   "outputs": [],
   "source": [
    "# Read in data from csv\n",
    "df = pd.read_csv('../Data/ETF_top_8_data.csv', header=[0, 1], parse_dates=True, index_col=[0])"
   ]
  },
  {
   "cell_type": "code",
   "execution_count": null,
   "id": "bb817269",
   "metadata": {
    "scrolled": true,
    "tags": []
   },
   "outputs": [],
   "source": [
    "# All availible function groups within TA-Lib\n",
    "list(ta.get_function_groups())"
   ]
  },
  {
   "cell_type": "code",
   "execution_count": null,
   "id": "e8f7b0ab",
   "metadata": {},
   "outputs": [],
   "source": [
    "# Search for indicator by group\n",
    "ta.get_function_groups()['Cycle Indicators']"
   ]
  },
  {
   "cell_type": "code",
   "execution_count": null,
   "id": "fd5b1f7c",
   "metadata": {},
   "outputs": [],
   "source": [
    "# Function allowing for customisable parameters in Bollinger Band\n",
    "    # nbdevup = Deviation multiplier for upper band,\n",
    "    # nbdevdn = Deviation multiplier for lower band,\n",
    "    # Moving average type: simple moving average here\n",
    "    # matype=0\n",
    "def bbands_create_df(timeperiod, nbdevup, nbdevdn, ticker, matype):\n",
    "    data=df[ticker]['close']\n",
    "    bbands = ta.BBANDS(data, timeperiod, nbdevup, nbdevdn, matype)\n",
    "    BB_df = pd.DataFrame(bbands).transpose()\n",
    "    BB_df.rename(columns={0:'BB_UPPER', 1:'BB_MIDDLE', 2:'BB_LOWER'}, inplace=True)\n",
    "    return BB_df"
   ]
  },
  {
   "cell_type": "code",
   "execution_count": null,
   "id": "1026aca4",
   "metadata": {},
   "outputs": [],
   "source": [
    "# Create a list of tickers that does not contain duplicates\n",
    "ticker_list = list(dict.fromkeys((df.droplevel(axis=1, level=[-1]))))"
   ]
  },
  {
   "cell_type": "code",
   "execution_count": null,
   "id": "6b831610",
   "metadata": {},
   "outputs": [],
   "source": [
    "# For loop that runs the Bollinger function for all tickers. It concatenates all Bollinger Band results into a single DataFrame, while also being indexed under their respective ticker\n",
    "for x in ticker_list:\n",
    "    # Create empty DataFrame\n",
    "    empty_df = pd.DataFrame()\n",
    "    # Run each Ticker through function\n",
    "    bbands = bbands_create_df(timeperiod=5, nbdevup=2, nbdevdn=2, ticker=x, matype=0)\n",
    "    # Create MultiIndex DataFrame containing the function results Indexed by the ticker name\n",
    "    for BB_type in bbands.columns:    \n",
    "        df[f'{x}', f'{BB_type}'] = bbands[BB_type]\n",
    "\n",
    "# Re-sort index so that DataFrame is properly displayed\n",
    "df = df.sort_index(axis=1)"
   ]
  },
  {
   "cell_type": "code",
   "execution_count": null,
   "id": "d81f1640",
   "metadata": {},
   "outputs": [],
   "source": [
    "# Preview DataFrame\n",
    "df"
   ]
  },
  {
   "cell_type": "code",
   "execution_count": null,
   "id": "cb6c42fc",
   "metadata": {},
   "outputs": [],
   "source": [
    "# Prepare graphs for bollinger band\n",
    "bb_upper = df['GDXJ']['BB_UPPER'].iloc[50:].hvplot(\n",
    "    line_color='purple',\n",
    "    ylabel='Price in $',\n",
    "    width=1000,\n",
    "    height=400\n",
    ")\n",
    "\n",
    "bb_middle = df['GDXJ']['BB_MIDDLE'].iloc[50:].hvplot(\n",
    "    line_color='orange',\n",
    "    ylabel='Price in $',\n",
    "    width=1000,\n",
    "    height=400\n",
    ")\n",
    "\n",
    "bb_lower = df['GDXJ']['BB_LOWER'].iloc[50:].hvplot(\n",
    "    line_color='blue',\n",
    "    ylabel='Price in $',\n",
    "    width=1000,\n",
    "    height=400\n",
    ")\n",
    "\n",
    "close = df['GDXJ'][\"close\"].iloc[50:].hvplot(\n",
    "    line_color='lightgray',\n",
    "    ylabel='Price in $',\n",
    "    width=1000,\n",
    "    height=400\n",
    ")"
   ]
  },
  {
   "cell_type": "code",
   "execution_count": null,
   "id": "5b40a851",
   "metadata": {},
   "outputs": [],
   "source": [
    "# Overlay and plot graphs\n",
    "bbands_plot = close * bb_upper * bb_middle * bb_lower\n",
    "bbands_plot"
   ]
  },
  {
   "cell_type": "code",
   "execution_count": null,
   "id": "f18f0d56",
   "metadata": {},
   "outputs": [],
   "source": []
  }
 ],
 "metadata": {
  "kernelspec": {
   "display_name": "Python 3 (ipykernel)",
   "language": "python",
   "name": "python3"
  },
  "language_info": {
   "codemirror_mode": {
    "name": "ipython",
    "version": 3
   },
   "file_extension": ".py",
   "mimetype": "text/x-python",
   "name": "python",
   "nbconvert_exporter": "python",
   "pygments_lexer": "ipython3",
   "version": "3.7.11"
  }
 },
 "nbformat": 4,
 "nbformat_minor": 5
}
