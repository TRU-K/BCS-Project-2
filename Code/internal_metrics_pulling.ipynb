{
 "cells": [
  {
   "cell_type": "code",
   "execution_count": 9,
   "id": "04e7402c",
   "metadata": {},
   "outputs": [
    {
     "name": "stdout",
     "output_type": "stream",
     "text": [
      "Requirement already satisfied: yfinance in c:\\users\\kurt\\anaconda3\\envs\\project2\\lib\\site-packages (0.1.72)\n",
      "Requirement already satisfied: pandas>=0.24.0 in c:\\users\\kurt\\anaconda3\\envs\\project2\\lib\\site-packages (from yfinance) (1.4.2)\n",
      "Requirement already satisfied: numpy>=1.15 in c:\\users\\kurt\\anaconda3\\envs\\project2\\lib\\site-packages (from yfinance) (1.22.4)\n",
      "Requirement already satisfied: lxml>=4.5.1 in c:\\users\\kurt\\anaconda3\\envs\\project2\\lib\\site-packages (from yfinance) (4.9.1)\n",
      "Requirement already satisfied: requests>=2.26 in c:\\users\\kurt\\anaconda3\\envs\\project2\\lib\\site-packages (from yfinance) (2.27.1)\n",
      "Requirement already satisfied: multitasking>=0.0.7 in c:\\users\\kurt\\anaconda3\\envs\\project2\\lib\\site-packages (from yfinance) (0.0.11)\n",
      "Requirement already satisfied: python-dateutil>=2.8.1 in c:\\users\\kurt\\anaconda3\\envs\\project2\\lib\\site-packages (from pandas>=0.24.0->yfinance) (2.8.2)\n",
      "Requirement already satisfied: pytz>=2020.1 in c:\\users\\kurt\\anaconda3\\envs\\project2\\lib\\site-packages (from pandas>=0.24.0->yfinance) (2022.1)\n",
      "Requirement already satisfied: idna<4,>=2.5 in c:\\users\\kurt\\anaconda3\\envs\\project2\\lib\\site-packages (from requests>=2.26->yfinance) (3.3)\n",
      "Requirement already satisfied: charset-normalizer~=2.0.0 in c:\\users\\kurt\\anaconda3\\envs\\project2\\lib\\site-packages (from requests>=2.26->yfinance) (2.0.12)\n",
      "Requirement already satisfied: certifi>=2017.4.17 in c:\\users\\kurt\\anaconda3\\envs\\project2\\lib\\site-packages (from requests>=2.26->yfinance) (2022.6.15)\n",
      "Requirement already satisfied: urllib3<1.27,>=1.21.1 in c:\\users\\kurt\\anaconda3\\envs\\project2\\lib\\site-packages (from requests>=2.26->yfinance) (1.26.9)\n",
      "Requirement already satisfied: six>=1.5 in c:\\users\\kurt\\anaconda3\\envs\\project2\\lib\\site-packages (from python-dateutil>=2.8.1->pandas>=0.24.0->yfinance) (1.16.0)\n"
     ]
    }
   ],
   "source": [
    "!pip install yfinance"
   ]
  },
  {
   "cell_type": "code",
   "execution_count": 10,
   "id": "65d4b58d",
   "metadata": {},
   "outputs": [],
   "source": [
    "# Import libraries\n",
    "import os\n",
    "import pandas as pd\n",
    "from datetime import datetime, timezone\n",
    "import yfinance as yf"
   ]
  },
  {
   "cell_type": "code",
   "execution_count": 11,
   "id": "ea54559e",
   "metadata": {},
   "outputs": [],
   "source": [
    "# Create parameters to be used in data pulling\n",
    "start = pd.Timestamp('2020-07-05', tz='America/New_York').isoformat()\n",
    "end = pd.Timestamp('2022-07-05', tz='America/New_York').isoformat()\n",
    "ticker_list = ['XLE', 'XLF', 'XLU', 'XLI', 'GDX', 'XLK', 'XLV', 'XLY', 'XLP', 'XLB', 'XOP', 'IYR', 'XHB', 'ITB', 'VNQ', 'GDXJ', 'IYE', 'OIH', 'XME', 'XRT', 'SMH', 'IBB', 'KBE', 'KRE', 'XTL']\n",
    "frequency = '1Day'\n",
    "period = '5y'"
   ]
  },
  {
   "cell_type": "code",
   "execution_count": 12,
   "id": "5f134681",
   "metadata": {},
   "outputs": [],
   "source": [
    "# Initialize dataframe\n",
    "df = pd.DataFrame()"
   ]
  },
  {
   "cell_type": "code",
   "execution_count": 13,
   "id": "1b5d979b-d562-44bb-992d-f9c38f499176",
   "metadata": {},
   "outputs": [],
   "source": [
    "# loop through ETF tickers and concat data into single dataframe\n",
    "for x in ticker_list:\n",
    "    yf_tick = yf.Ticker(x)\n",
    "    to_df = yf_tick.history(start_date=start, end_date=end, frequency=frequency, period=period)\n",
    "    to_df.columns = to_df.columns.str.lower()\n",
    "    df_temp = pd.concat({f\"{x}\": to_df}, axis=1)\n",
    "    df = pd.concat([df_temp, df], axis=1)"
   ]
  },
  {
   "cell_type": "code",
   "execution_count": 14,
   "id": "2455f0e4-fa5e-4933-8154-2fa70e451bb6",
   "metadata": {},
   "outputs": [],
   "source": [
    "# Save data to csv\n",
    "df.to_csv('../Data/ETF_data.csv')"
   ]
  },
  {
   "cell_type": "code",
   "execution_count": 15,
   "id": "13698adf",
   "metadata": {},
   "outputs": [],
   "source": [
    "# Create new dataframe of top 8 stocks\n",
    "df_top_8 = df[['GDXJ', 'XLV', 'XLP', 'XLI', 'XLU', 'GDX', 'XLE', 'XLF']]"
   ]
  },
  {
   "cell_type": "code",
   "execution_count": 16,
   "id": "f44cdfdc",
   "metadata": {},
   "outputs": [],
   "source": [
    "# Save data to csv\n",
    "df_top_8.to_csv('../Data/ETF_top_8_data.csv')"
   ]
  },
  {
   "cell_type": "code",
   "execution_count": null,
   "id": "2978cc00-41a7-492f-b1d8-c82154d8cfa9",
   "metadata": {},
   "outputs": [],
   "source": []
  }
 ],
 "metadata": {
  "kernelspec": {
   "display_name": "Python 3 (ipykernel)",
   "language": "python",
   "name": "python3"
  },
  "language_info": {
   "codemirror_mode": {
    "name": "ipython",
    "version": 3
   },
   "file_extension": ".py",
   "mimetype": "text/x-python",
   "name": "python",
   "nbconvert_exporter": "python",
   "pygments_lexer": "ipython3",
   "version": "3.10.4"
  }
 },
 "nbformat": 4,
 "nbformat_minor": 5
}
