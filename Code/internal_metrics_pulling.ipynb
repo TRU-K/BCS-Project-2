{
 "cells": [
  {
   "cell_type": "code",
   "execution_count": 1,
   "id": "a5c68b84",
   "metadata": {},
   "outputs": [
    {
     "name": "stdout",
     "output_type": "stream",
     "text": [
      "Requirement already satisfied: yfinance in c:\\users\\kurt\\anaconda3\\envs\\dev\\lib\\site-packages (0.1.70)\n",
      "Requirement already satisfied: pandas>=0.24.0 in c:\\users\\kurt\\anaconda3\\envs\\dev\\lib\\site-packages (from yfinance) (1.3.5)\n",
      "Requirement already satisfied: lxml>=4.5.1 in c:\\users\\kurt\\anaconda3\\envs\\dev\\lib\\site-packages (from yfinance) (4.8.0)\n",
      "Requirement already satisfied: multitasking>=0.0.7 in c:\\users\\kurt\\anaconda3\\envs\\dev\\lib\\site-packages (from yfinance) (0.0.10)\n",
      "Requirement already satisfied: numpy>=1.15 in c:\\users\\kurt\\anaconda3\\envs\\dev\\lib\\site-packages (from yfinance) (1.21.5)\n",
      "Requirement already satisfied: requests>=2.26 in c:\\users\\kurt\\anaconda3\\envs\\dev\\lib\\site-packages (from yfinance) (2.28.1)\n",
      "Requirement already satisfied: python-dateutil>=2.7.3 in c:\\users\\kurt\\anaconda3\\envs\\dev\\lib\\site-packages (from pandas>=0.24.0->yfinance) (2.8.2)\n",
      "Requirement already satisfied: pytz>=2017.3 in c:\\users\\kurt\\anaconda3\\envs\\dev\\lib\\site-packages (from pandas>=0.24.0->yfinance) (2021.3)\n",
      "Requirement already satisfied: six>=1.5 in c:\\users\\kurt\\anaconda3\\envs\\dev\\lib\\site-packages (from python-dateutil>=2.7.3->pandas>=0.24.0->yfinance) (1.16.0)\n",
      "Requirement already satisfied: idna<4,>=2.5 in c:\\users\\kurt\\anaconda3\\envs\\dev\\lib\\site-packages (from requests>=2.26->yfinance) (2.8)\n",
      "Requirement already satisfied: urllib3<1.27,>=1.21.1 in c:\\users\\kurt\\anaconda3\\envs\\dev\\lib\\site-packages (from requests>=2.26->yfinance) (1.24.3)\n",
      "Requirement already satisfied: certifi>=2017.4.17 in c:\\users\\kurt\\anaconda3\\envs\\dev\\lib\\site-packages (from requests>=2.26->yfinance) (2022.5.18.1)\n",
      "Requirement already satisfied: charset-normalizer<3,>=2 in c:\\users\\kurt\\anaconda3\\envs\\dev\\lib\\site-packages (from requests>=2.26->yfinance) (2.0.4)\n"
     ]
    }
   ],
   "source": [
    "!pip install yfinance"
   ]
  },
  {
   "cell_type": "code",
   "execution_count": 2,
   "id": "bab5f6ff",
   "metadata": {},
   "outputs": [],
   "source": [
    "# Import libraries\n",
    "import os\n",
    "import pandas as pd\n",
    "from datetime import datetime, timezone\n",
    "import yfinance as yf"
   ]
  },
  {
   "cell_type": "code",
   "execution_count": 3,
   "id": "b6791c8e",
   "metadata": {},
   "outputs": [],
   "source": [
    "# Create parameters to be used in data pulling\n",
    "start = pd.Timestamp('2020-07-05', tz='America/New_York').isoformat()\n",
    "end = pd.Timestamp('2022-07-05', tz='America/New_York').isoformat()\n",
    "ticker_list = ['XLE', 'XLF', 'XLU', 'XLI', 'GDX', 'XLK', 'XLV', 'XLY', 'XLP', 'XLB', 'XOP', 'IYR', 'XHB', 'ITB', 'VNQ', 'GDXJ', 'IYE', 'OIH', 'XME', 'XRT', 'SMH', 'IBB', 'KBE', 'KRE', 'XTL']\n",
    "frequency = '1Day'"
   ]
  },
  {
   "cell_type": "code",
   "execution_count": 4,
   "id": "31b24f63",
   "metadata": {},
   "outputs": [],
   "source": [
    "# Initialize dataframe\n",
    "df = pd.DataFrame()"
   ]
  },
  {
   "cell_type": "code",
   "execution_count": 5,
   "id": "4e94e6a2",
   "metadata": {},
   "outputs": [],
   "source": [
    "# loop through ETF tickers and create concat into single dataframe\n",
    "for x in ticker_list:\n",
    "    yf_tick = yf.Ticker(x)\n",
    "    to_df = yf_tick.history(start_date=start, end_date=end, frequency=frequency)\n",
    "    df_temp = pd.concat({f\"{x}\": to_df}, axis=1)\n",
    "    df = pd.concat([df_temp, df], axis=1)"
   ]
  },
  {
   "cell_type": "code",
   "execution_count": 72,
   "id": "8708193d",
   "metadata": {},
   "outputs": [],
   "source": [
    "# Save data to csv\n",
    "df.to_csv('../Data/ETF_data.csv')"
   ]
  },
  {
   "cell_type": "code",
   "execution_count": 79,
   "id": "dac90596",
   "metadata": {},
   "outputs": [],
   "source": [
    "# Create new dataframe of top 8 stocks\n",
    "df_top_8 = df[['GDXJ', 'XLV', 'XLP', 'XLI', 'XLU', 'GDX', 'XLE', 'XLF']]"
   ]
  },
  {
   "cell_type": "code",
   "execution_count": 80,
   "id": "f4ae46ed",
   "metadata": {},
   "outputs": [],
   "source": [
    "# Save data to csv\n",
    "df_top_8.to_csv('../Data/ETF_top_8_data.csv')"
   ]
  }
 ],
 "metadata": {
  "kernelspec": {
   "display_name": "Python 3 (ipykernel)",
   "language": "python",
   "name": "python3"
  },
  "language_info": {
   "codemirror_mode": {
    "name": "ipython",
    "version": 3
   },
   "file_extension": ".py",
   "mimetype": "text/x-python",
   "name": "python",
   "nbconvert_exporter": "python",
   "pygments_lexer": "ipython3",
   "version": "3.7.11"
  }
 },
 "nbformat": 4,
 "nbformat_minor": 5
}
